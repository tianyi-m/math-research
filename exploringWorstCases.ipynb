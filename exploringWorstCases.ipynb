{
 "cells": [
  {
   "cell_type": "code",
   "execution_count": 1,
   "metadata": {},
   "outputs": [],
   "source": [
    "import pandas as pd"
   ]
  },
  {
   "cell_type": "code",
   "execution_count": 2,
   "metadata": {},
   "outputs": [],
   "source": [
    "worstCases = pd.read_csv(\"worstCasesUnder1thousand.csv\")"
   ]
  },
  {
   "cell_type": "code",
   "execution_count": 3,
   "metadata": {},
   "outputs": [],
   "source": [
    "specialWorstCases = worstCases[worstCases[\"|2A^2|/(|A| 2)\"] < 0.75]\n",
    "q_list = specialWorstCases[\"q\"]"
   ]
  },
  {
   "cell_type": "code",
   "execution_count": 20,
   "metadata": {},
   "outputs": [],
   "source": [
    "def mod8distribution(q_list):\n",
    "    total = len(q_list)\n",
    "    n0, n1, n2, n3, n4, n5, n6, n7 = (0 for i in range(8))\n",
    "    q0, q1, q2, q3, q4, q5, q6, q7 = ([] for i in range(8))\n",
    "    for q in q_list:\n",
    "        q_mod8 = q%8\n",
    "        if q_mod8 == 0:\n",
    "            q0.append(q)\n",
    "            n0+=1\n",
    "        elif q_mod8 == 1:\n",
    "            q1.append(q)\n",
    "            n1+=1\n",
    "        elif q_mod8 == 2:\n",
    "            q2.append(q)\n",
    "            n2+=1\n",
    "        elif q_mod8 == 3:\n",
    "            q3.append(q)\n",
    "            n3+=1\n",
    "        elif q_mod8 == 4:\n",
    "            q4.append(q)\n",
    "            n4+=1\n",
    "        elif q_mod8 == 5:\n",
    "            q5.append(q)\n",
    "            n5+=1\n",
    "        elif q_mod8 == 6:\n",
    "            q6.append(q)\n",
    "            n6+=1\n",
    "        elif q_mod8 == 7:\n",
    "            q7.append(q)\n",
    "            n7+=1\n",
    "    q_catagorized = [q0, q1, q2, q3, q4, q5, q6, q7]\n",
    "    q_distribution = [n0/total, n1/total, n2/total, n3/total, n4/total, n5/total, n6/total, n7/total]\n",
    "    stat = pd.Series(q_distribution, index=[\"0 mod 8\", \"1 mod 8\", \"2 mod 8\", \"3 mod 8\", \"4 mod 8\", \"5 mod 8\", \"6 mod 8\", \"7 mod 8\"])\n",
    "    print(stat)\n",
    "    return q_catagorized, q_distribution"
   ]
  },
  {
   "cell_type": "code",
   "execution_count": 7,
   "metadata": {},
   "outputs": [
    {
     "name": "stdout",
     "output_type": "stream",
     "text": [
      "0 mod 8     0.0\n",
      "1 mode 8    0.0\n",
      "2 mode 8    0.0\n",
      "3 mode 8    0.5\n",
      "4 mode 8    0.0\n",
      "5 mode 8    0.0\n",
      "6 mode 8    0.0\n",
      "7 mode 8    0.5\n",
      "dtype: float64\n"
     ]
    }
   ],
   "source": [
    "q_catagorized, q_distribution = mod8distribution(q_list)"
   ]
  },
  {
   "cell_type": "code",
   "execution_count": 21,
   "metadata": {},
   "outputs": [],
   "source": [
    "def mod7distribution(q_list):\n",
    "    total = len(q_list)\n",
    "    n0, n1, n2, n3, n4, n5, n6 = (0 for i in range(7))\n",
    "    q0, q1, q2, q3, q4, q5, q6 = ([] for i in range(7))\n",
    "    for q in q_list:\n",
    "        q_mod7 = q%7\n",
    "        if q_mod7 == 0:\n",
    "            q0.append(q)\n",
    "            n0+=1\n",
    "        elif q_mod7 == 1:\n",
    "            q1.append(q)\n",
    "            n1+=1\n",
    "        elif q_mod7 == 2:\n",
    "            q2.append(q)\n",
    "            n2+=1\n",
    "        elif q_mod7 == 3:\n",
    "            q3.append(q)\n",
    "            n3+=1\n",
    "        elif q_mod7 == 4:\n",
    "            q4.append(q)\n",
    "            n4+=1\n",
    "        elif q_mod7 == 5:\n",
    "            q5.append(q)\n",
    "            n5+=1\n",
    "        elif q_mod7 == 6:\n",
    "            q6.append(q)\n",
    "            n6+=1\n",
    "    q_catagorized = [q0, q1, q2, q3, q4, q5, q6]\n",
    "    q_distribution = [n0/total, n1/total, n2/total, n3/total, n4/total, n5/total, n6/total]\n",
    "    stat = pd.Series(q_distribution, index=[\"0 mod 7\", \"1 mod 7\", \"2 mod 7\", \"3 mod 7\", \"4 mod 7\", \"5 mod 7\", \"6 mod 7\"])\n",
    "    print(stat)\n",
    "    return q_catagorized, q_distribution"
   ]
  },
  {
   "cell_type": "code",
   "execution_count": 17,
   "metadata": {},
   "outputs": [
    {
     "name": "stdout",
     "output_type": "stream",
     "text": [
      "0 mod 7     0.000000\n",
      "1 mode 7    0.342105\n",
      "2 mode 7    0.131579\n",
      "3 mode 7    0.052632\n",
      "4 mode 7    0.184211\n",
      "5 mode 7    0.105263\n",
      "6 mode 7    0.184211\n",
      "dtype: float64\n"
     ]
    }
   ],
   "source": [
    "q_catagorized, q_distribution = mod7distribution(q_list)"
   ]
  },
  {
   "cell_type": "code",
   "execution_count": 22,
   "metadata": {},
   "outputs": [],
   "source": [
    "def mod6distribution(q_list):\n",
    "    total = len(q_list)\n",
    "    n0, n1, n2, n3, n4, n5 = (0 for i in range(6))\n",
    "    q0, q1, q2, q3, q4, q5 = ([] for i in range(6))\n",
    "    for q in q_list:\n",
    "        q_mod6 = q%6\n",
    "        if q_mod6 == 0:\n",
    "            q0.append(q)\n",
    "            n0+=1\n",
    "        elif q_mod6 == 1:\n",
    "            q1.append(q)\n",
    "            n1+=1\n",
    "        elif q_mod6 == 2:\n",
    "            q2.append(q)\n",
    "            n2+=1\n",
    "        elif q_mod6 == 3:\n",
    "            q3.append(q)\n",
    "            n3+=1\n",
    "        elif q_mod6 == 4:\n",
    "            q4.append(q)\n",
    "            n4+=1\n",
    "        elif q_mod6 == 5:\n",
    "            q5.append(q)\n",
    "            n5+=1\n",
    "    q_catagorized = [q0, q1, q2, q3, q4, q5]\n",
    "    q_distribution = [n0/total, n1/total, n2/total, n3/total, n4/total, n5/total]\n",
    "    stat = pd.Series(q_distribution, index=[\"0 mod 6\", \"1 mod 6\", \"2 mod 6\", \"3 mod 6\", \"4 mod 6\", \"5 mod 6\"])\n",
    "    print(stat)\n",
    "    return q_catagorized, q_distribution"
   ]
  },
  {
   "cell_type": "code",
   "execution_count": 23,
   "metadata": {},
   "outputs": [
    {
     "name": "stdout",
     "output_type": "stream",
     "text": [
      "0 mod 6    0.000000\n",
      "1 mod 6    0.526316\n",
      "2 mod 6    0.000000\n",
      "3 mod 6    0.000000\n",
      "4 mod 6    0.000000\n",
      "5 mod 6    0.473684\n",
      "dtype: float64\n"
     ]
    }
   ],
   "source": [
    "q_catagorized, q_distribution = mod6distribution(q_list)"
   ]
  },
  {
   "cell_type": "code",
   "execution_count": 25,
   "metadata": {},
   "outputs": [
    {
     "name": "stdout",
     "output_type": "stream",
     "text": [
      "number of primes that is congruent to 1 mod 6:  20\n",
      "number of primes that is congruent to 5 mod 6:  18\n"
     ]
    }
   ],
   "source": [
    "print(\"number of primes that is congruent to 1 mod 6: \",len(q_catagorized[1]))\n",
    "print(\"number of primes that is congruent to 5 mod 6: \",len(q_catagorized[5]))"
   ]
  },
  {
   "cell_type": "code",
   "execution_count": null,
   "metadata": {},
   "outputs": [],
   "source": []
  }
 ],
 "metadata": {
  "kernelspec": {
   "display_name": "Python 3",
   "language": "python",
   "name": "python3"
  },
  "language_info": {
   "codemirror_mode": {
    "name": "ipython",
    "version": 3
   },
   "file_extension": ".py",
   "mimetype": "text/x-python",
   "name": "python",
   "nbconvert_exporter": "python",
   "pygments_lexer": "ipython3",
   "version": "3.8.6"
  }
 },
 "nbformat": 4,
 "nbformat_minor": 4
}
